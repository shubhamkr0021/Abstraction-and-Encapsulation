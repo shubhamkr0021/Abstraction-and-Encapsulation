{
 "cells": [
  {
   "cell_type": "markdown",
   "id": "04c75632-e03c-43ba-b176-5a9d3b4e600a",
   "metadata": {},
   "source": [
    "Q1. What is Abstraction in OOps? Explain with an example."
   ]
  },
  {
   "cell_type": "markdown",
   "id": "73c143c3-62e8-44b7-b679-c4f67e6b23af",
   "metadata": {},
   "source": [
    "Abstraction in object-oriented programming is a fundamental concept that involves simplifying complex reality by modeling classes based on real-world objects and their essential characteristics and behaviors. It allows you to focus on the relevant details of an object while hiding unnecessary complexity. Abstraction provides a way to create a blueprint or template for objects, defining their properties and behaviors (methods) without specifying all the implementation details."
   ]
  },
  {
   "cell_type": "code",
   "execution_count": 2,
   "id": "6030c59a-46c3-4e06-80b2-92b85b019ca6",
   "metadata": {},
   "outputs": [
    {
     "name": "stdout",
     "output_type": "stream",
     "text": [
      "Toyota Camry (2022) started.\n",
      "Accelerating to 30 mph.\n",
      "Applying brakes. Current speed: 25 mph.\n",
      "Accelerating to 80 mph.\n",
      "Honk! Honk!\n",
      "Toyota Camry stopped.\n"
     ]
    }
   ],
   "source": [
    "class Car:\n",
    "    def __init__(self, make, model, year):\n",
    "        self.make = make\n",
    "        self.model = model\n",
    "        self.year = year\n",
    "        self.speed = 0  # Current speed\n",
    "\n",
    "    def start(self):\n",
    "        print(f\"{self.make} {self.model} ({self.year}) started.\")\n",
    "\n",
    "    def accelerate(self, mph):\n",
    "        self.speed += mph\n",
    "        print(f\"Accelerating to {self.speed} mph.\")\n",
    "\n",
    "    def brake(self):\n",
    "        self.speed = max(0, self.speed - 5)\n",
    "        print(f\"Applying brakes. Current speed: {self.speed} mph.\")\n",
    "\n",
    "    def stop(self):\n",
    "        self.speed = 0\n",
    "        print(f\"{self.make} {self.model} stopped.\")\n",
    "\n",
    "    def honk(self):\n",
    "        print(\"Honk! Honk!\")\n",
    "\n",
    "my_car = Car(\"Toyota\", \"Camry\", 2022)\n",
    "\n",
    "# Using abstraction to interact with the car\n",
    "my_car.start()\n",
    "my_car.accelerate(30)\n",
    "my_car.brake()\n",
    "my_car.accelerate(55)\n",
    "my_car.honk()\n",
    "my_car.stop()\n"
   ]
  },
  {
   "cell_type": "markdown",
   "id": "d03390e3-348c-4c4e-bc46-f9bc93618c4b",
   "metadata": {},
   "source": [
    "Q2. Differentiate between Abstraction and Encapsulation. Explain with an example."
   ]
  },
  {
   "cell_type": "code",
   "execution_count": 3,
   "id": "f172298f-4c7c-4765-89d6-45b6266e5e6f",
   "metadata": {},
   "outputs": [],
   "source": [
    "#Abstraction:\n",
    "\n",
    "#Abstraction focuses on hiding the complex, low-level details of an object while exposing its essential features and behaviors.\n",
    "\n",
    "\n",
    "class Shape:\n",
    "    def area(self):\n",
    "        pass\n",
    "    \n",
    "    def perimeter(self):\n",
    "        pass\n",
    "\n",
    "class Circle(Shape):\n",
    "    def __init__(self, radius):\n",
    "        self.radius = radius\n",
    "    \n",
    "    def area(self):\n",
    "        return 3.14 * self.radius**2\n",
    "    \n",
    "    def perimeter(self):\n",
    "        return 2 * 3.14 * self.radius\n"
   ]
  },
  {
   "cell_type": "code",
   "execution_count": 4,
   "id": "64522d57-b002-404f-929a-8a53f931aa72",
   "metadata": {},
   "outputs": [],
   "source": [
    "#Encapsulation: Encapsulation focuses on bundling data and methods (functions) that operate on that data into a single unit  while controlling access to data.\n",
    "\n",
    "class Person:\n",
    "    def __init__(self, name, age):\n",
    "        self._name = name  # Encapsulated attribute\n",
    "        self._age = age    # Encapsulated attribute\n",
    "    \n",
    "    def get_name(self):\n",
    "        return self._name\n",
    "    \n",
    "    def set_age(self, age):\n",
    "        if age >= 0:\n",
    "            self._age = age\n",
    "        else:\n",
    "            print(\"Age cannot be negative.\")\n",
    "\n",
    "            \n"
   ]
  },
  {
   "cell_type": "markdown",
   "id": "f2e33fe5-31fc-4810-9910-bf2ce33657d1",
   "metadata": {},
   "source": [
    "Q3. What is abc module in python? Why is it used?"
   ]
  },
  {
   "cell_type": "markdown",
   "id": "53d0249d-9b6b-4760-91bd-9a4a435f3150",
   "metadata": {},
   "source": [
    "The abc module in Python stands for \"Abstract Base Classes.\" It is used to define abstract base classes and enforce the implementation of certain methods in derived classes. It helps ensure that subclasses provide specific behavior by raising a TypeError if required methods are not implemented. It's commonly used for creating a formal interface in Python, even though Python doesn't have a strict interface concept like some other programming languages."
   ]
  },
  {
   "cell_type": "markdown",
   "id": "e9db523f-e49a-4257-931f-182243087e7c",
   "metadata": {},
   "source": [
    "Q4. How can we achieve data abstraction?"
   ]
  },
  {
   "cell_type": "markdown",
   "id": "6925a647-b6fc-4da7-9d1f-706eac3ee91b",
   "metadata": {},
   "source": [
    "Data abstraction in programming is typically achieved through the use of classes and objects. Here's how you can achieve data abstraction:\n",
    "\n",
    "Define Classes: Create classes to represent objects or concepts in your program. Classes act as blueprints for objects, defining their attributes (data) and methods (functions).\n",
    "\n",
    "Hide Internal Details: Encapsulate the internal details of a class by marking certain attributes as private or using getters and setters to control access. In Python, you can use a single underscore prefix (e.g., _attribute) to indicate that an attribute is intended to be private, but it's more of a convention, as Python doesn't enforce strict access control.\n",
    "\n",
    "Expose a Public Interface: Define a public interface for your class. These are the methods that external code can use to interact with the object. This interface should abstract away the implementation details and provide a clear and intuitive way to work with the object.\n",
    "\n",
    "Implement Methods: Implement the methods of the class, ensuring they perform the desired behavior and hide the complexity of how that behavior is achieved.\n",
    "\n",
    "Create Objects: Instantiate objects from your classes. These objects are instances of the class and contain their own data.\n",
    "\n",
    "Interact Through the Public Interface: Use the objects by interacting with them through the public interface methods. This allows you to work with the objects at a higher level of abstraction, without needing to know the internal details."
   ]
  },
  {
   "cell_type": "markdown",
   "id": "87f9e6d8-a565-4894-8f50-4f2d89c60efa",
   "metadata": {},
   "source": [
    "Q5. Can we create an instance of an abstract class? Explain your answer."
   ]
  },
  {
   "cell_type": "markdown",
   "id": "ea39ed6f-ac8f-48b1-9ff6-38a4496613e2",
   "metadata": {},
   "source": [
    "No, you cannot create an instance of an abstract class in Python. Abstract classes are meant to serve as templates or blueprints for other classes. They define a set of methods that must be implemented by any concrete (i.e., non-abstract) subclass.\n",
    "\n",
    "In Python, you can create an abstract class using the abc module and the ABC (Abstract Base Class) metaclass. To declare a method as abstract within an abstract class, you use the @abstractmethod decorator. These abstract methods are meant to be overridden by concrete subclasses"
   ]
  },
  {
   "cell_type": "code",
   "execution_count": null,
   "id": "fcb07aec-86aa-4b9a-b01f-3abb74554ee4",
   "metadata": {},
   "outputs": [],
   "source": [
    "from abc import ABC, abstractmethod\n",
    "\n",
    "class Shape(ABC):  # Abstract class\n",
    "    @abstractmethod\n",
    "    def area(self):\n",
    "        pass\n",
    "\n",
    "    @abstractmethod\n",
    "    def perimeter(self):\n",
    "        pass\n",
    "\n",
    "class Circle(Shape):  # Concrete subclass\n",
    "    def __init__(self, radius):\n",
    "        self.radius = radius\n",
    "\n",
    "    def area(self):\n",
    "        return 3.14 * self.radius**2\n",
    "\n",
    "    def perimeter(self):\n",
    "        return 2 * 3.14 * self.radius\n"
   ]
  },
  {
   "cell_type": "code",
   "execution_count": null,
   "id": "2af27076-a3c0-4408-84b9-64f55cbe78c9",
   "metadata": {},
   "outputs": [],
   "source": []
  }
 ],
 "metadata": {
  "kernelspec": {
   "display_name": "Python 3 (ipykernel)",
   "language": "python",
   "name": "python3"
  },
  "language_info": {
   "codemirror_mode": {
    "name": "ipython",
    "version": 3
   },
   "file_extension": ".py",
   "mimetype": "text/x-python",
   "name": "python",
   "nbconvert_exporter": "python",
   "pygments_lexer": "ipython3",
   "version": "3.10.8"
  }
 },
 "nbformat": 4,
 "nbformat_minor": 5
}
